{
 "cells": [
  {
   "cell_type": "code",
   "execution_count": 40,
   "metadata": {},
   "outputs": [],
   "source": [
    "#importing libraries\n",
    "import os\n",
    "import pandas as pd"
   ]
  },
  {
   "cell_type": "code",
   "execution_count": 41,
   "metadata": {},
   "outputs": [],
   "source": [
    "staging_folder = r'C:\\Users\\JenishaE\\Documents\\finalDE\\finalProject-Data\\staging'\n",
    "prep_folder = r'C:\\Users\\JenishaE\\Documents\\finalDE\\finalProject-Data\\prep'"
   ]
  },
  {
   "cell_type": "code",
   "execution_count": 42,
   "metadata": {},
   "outputs": [],
   "source": [
    "if not os.path.exists(prep_folder):\n",
    "    os.makedirs(prep_folder)"
   ]
  },
  {
   "cell_type": "code",
   "execution_count": 43,
   "metadata": {},
   "outputs": [],
   "source": [
    "#path of the file\n",
    "file_path=os.path.join(staging_folder,'loaded_employee_data.csv')"
   ]
  },
  {
   "cell_type": "code",
   "execution_count": 44,
   "metadata": {},
   "outputs": [],
   "source": [
    "##convert file to dataframe\n",
    "df_employee_data=pd.read_csv(file_path)"
   ]
  },
  {
   "cell_type": "code",
   "execution_count": 45,
   "metadata": {},
   "outputs": [
    {
     "data": {
      "text/plain": [
       "Index(['emp_id', 'emp_name', 'department', 'designation', 'DOJ', 'age',\n",
       "       'experience', 'salary', 'no_of_promotions', 'education'],\n",
       "      dtype='object')"
      ]
     },
     "execution_count": 45,
     "metadata": {},
     "output_type": "execute_result"
    }
   ],
   "source": [
    "#cols\n",
    "df_employee_data.columns"
   ]
  },
  {
   "cell_type": "code",
   "execution_count": 46,
   "metadata": {},
   "outputs": [
    {
     "name": "stdout",
     "output_type": "stream",
     "text": [
      "<class 'pandas.core.frame.DataFrame'>\n",
      "RangeIndex: 5000 entries, 0 to 4999\n",
      "Data columns (total 10 columns):\n",
      " #   Column            Non-Null Count  Dtype  \n",
      "---  ------            --------------  -----  \n",
      " 0   emp_id            5000 non-null   object \n",
      " 1   emp_name          5000 non-null   object \n",
      " 2   department        5000 non-null   object \n",
      " 3   designation       5000 non-null   object \n",
      " 4   DOJ               5000 non-null   object \n",
      " 5   age               5000 non-null   int64  \n",
      " 6   experience        4848 non-null   float64\n",
      " 7   salary            4840 non-null   float64\n",
      " 8   no_of_promotions  4851 non-null   float64\n",
      " 9   education         5000 non-null   object \n",
      "dtypes: float64(3), int64(1), object(6)\n",
      "memory usage: 390.8+ KB\n"
     ]
    }
   ],
   "source": [
    "#info\n",
    "df_employee_data.info()"
   ]
  },
  {
   "cell_type": "code",
   "execution_count": 47,
   "metadata": {},
   "outputs": [],
   "source": [
    "#converting the data types\n",
    "df_employee_data['emp_id'] = df_employee_data['emp_id'].astype('string')\n",
    "df_employee_data['emp_name'] = df_employee_data['emp_name'].astype('string')\n",
    "df_employee_data['department'] = df_employee_data['department'].astype('string')\n",
    "df_employee_data['designation'] = df_employee_data['designation'].astype('string')\n",
    "df_employee_data['DOJ'] = pd.to_datetime(df_employee_data['DOJ'], format='%Y-%m-%d').dt.date  # Date only\n",
    "df_employee_data['age'] = df_employee_data['age'].astype('int')\n",
    "df_employee_data['experience'] = df_employee_data['experience'].astype('Int64')  # Nullable integer\n",
    "df_employee_data['salary'] = df_employee_data['salary'].astype('Int64')  # Nullable integer\n",
    "df_employee_data['no_of_promotions'] = df_employee_data['no_of_promotions'].astype('Int64')  # Nullable integer\n",
    "df_employee_data['education'] = df_employee_data['education'].astype('string')"
   ]
  },
  {
   "cell_type": "code",
   "execution_count": 48,
   "metadata": {},
   "outputs": [
    {
     "data": {
      "text/html": [
       "<div>\n",
       "<style scoped>\n",
       "    .dataframe tbody tr th:only-of-type {\n",
       "        vertical-align: middle;\n",
       "    }\n",
       "\n",
       "    .dataframe tbody tr th {\n",
       "        vertical-align: top;\n",
       "    }\n",
       "\n",
       "    .dataframe thead th {\n",
       "        text-align: right;\n",
       "    }\n",
       "</style>\n",
       "<table border=\"1\" class=\"dataframe\">\n",
       "  <thead>\n",
       "    <tr style=\"text-align: right;\">\n",
       "      <th></th>\n",
       "      <th>emp_id</th>\n",
       "      <th>emp_name</th>\n",
       "      <th>department</th>\n",
       "      <th>designation</th>\n",
       "      <th>DOJ</th>\n",
       "      <th>age</th>\n",
       "      <th>experience</th>\n",
       "      <th>salary</th>\n",
       "      <th>no_of_promotions</th>\n",
       "      <th>education</th>\n",
       "    </tr>\n",
       "  </thead>\n",
       "  <tbody>\n",
       "    <tr>\n",
       "      <th>0</th>\n",
       "      <td>E001</td>\n",
       "      <td>Sharon Burns</td>\n",
       "      <td>Finance</td>\n",
       "      <td>Senior Developer</td>\n",
       "      <td>2006-11-22</td>\n",
       "      <td>45</td>\n",
       "      <td>11</td>\n",
       "      <td>95402</td>\n",
       "      <td>1</td>\n",
       "      <td>Bachelors</td>\n",
       "    </tr>\n",
       "    <tr>\n",
       "      <th>1</th>\n",
       "      <td>E002</td>\n",
       "      <td>Hannah Sanchez</td>\n",
       "      <td>Finance</td>\n",
       "      <td>Senior Developer</td>\n",
       "      <td>2010-02-25</td>\n",
       "      <td>41</td>\n",
       "      <td>11</td>\n",
       "      <td>89438</td>\n",
       "      <td>3</td>\n",
       "      <td>Masters</td>\n",
       "    </tr>\n",
       "    <tr>\n",
       "      <th>2</th>\n",
       "      <td>E003</td>\n",
       "      <td>Larry Waters</td>\n",
       "      <td>Marketing</td>\n",
       "      <td>Senior Developer</td>\n",
       "      <td>2019-10-19</td>\n",
       "      <td>44</td>\n",
       "      <td>11</td>\n",
       "      <td>91396</td>\n",
       "      <td>2</td>\n",
       "      <td>Masters</td>\n",
       "    </tr>\n",
       "    <tr>\n",
       "      <th>3</th>\n",
       "      <td>E004</td>\n",
       "      <td>Angela Delacruz</td>\n",
       "      <td>Sales</td>\n",
       "      <td>Junior Developer</td>\n",
       "      <td>2014-08-27</td>\n",
       "      <td>24</td>\n",
       "      <td>2</td>\n",
       "      <td>23081</td>\n",
       "      <td>0</td>\n",
       "      <td>Bachelors</td>\n",
       "    </tr>\n",
       "    <tr>\n",
       "      <th>4</th>\n",
       "      <td>E005</td>\n",
       "      <td>John Cook</td>\n",
       "      <td>HR</td>\n",
       "      <td>Junior Developer</td>\n",
       "      <td>2009-11-20</td>\n",
       "      <td>24</td>\n",
       "      <td>2</td>\n",
       "      <td>22370</td>\n",
       "      <td>0</td>\n",
       "      <td>Masters</td>\n",
       "    </tr>\n",
       "  </tbody>\n",
       "</table>\n",
       "</div>"
      ],
      "text/plain": [
       "  emp_id         emp_name department       designation         DOJ  age  \\\n",
       "0   E001     Sharon Burns    Finance  Senior Developer  2006-11-22   45   \n",
       "1   E002   Hannah Sanchez    Finance  Senior Developer  2010-02-25   41   \n",
       "2   E003     Larry Waters  Marketing  Senior Developer  2019-10-19   44   \n",
       "3   E004  Angela Delacruz      Sales  Junior Developer  2014-08-27   24   \n",
       "4   E005        John Cook         HR  Junior Developer  2009-11-20   24   \n",
       "\n",
       "   experience  salary  no_of_promotions  education  \n",
       "0          11   95402                 1  Bachelors  \n",
       "1          11   89438                 3    Masters  \n",
       "2          11   91396                 2    Masters  \n",
       "3           2   23081                 0  Bachelors  \n",
       "4           2   22370                 0    Masters  "
      ]
     },
     "execution_count": 48,
     "metadata": {},
     "output_type": "execute_result"
    }
   ],
   "source": [
    "df_employee_data.head()"
   ]
  },
  {
   "cell_type": "code",
   "execution_count": 49,
   "metadata": {},
   "outputs": [
    {
     "data": {
      "text/plain": [
       "(5000, 10)"
      ]
     },
     "execution_count": 49,
     "metadata": {},
     "output_type": "execute_result"
    }
   ],
   "source": [
    "#no.of.rows and cols\n",
    "df_employee_data.shape"
   ]
  },
  {
   "cell_type": "code",
   "execution_count": 50,
   "metadata": {},
   "outputs": [
    {
     "data": {
      "text/plain": [
       "emp_id              string[python]\n",
       "emp_name            string[python]\n",
       "department          string[python]\n",
       "designation         string[python]\n",
       "DOJ                         object\n",
       "age                          int64\n",
       "experience                   Int64\n",
       "salary                       Int64\n",
       "no_of_promotions             Int64\n",
       "education           string[python]\n",
       "dtype: object"
      ]
     },
     "execution_count": 50,
     "metadata": {},
     "output_type": "execute_result"
    }
   ],
   "source": [
    "df_employee_data.dtypes"
   ]
  },
  {
   "cell_type": "code",
   "execution_count": 51,
   "metadata": {},
   "outputs": [
    {
     "data": {
      "text/plain": [
       "emp_id                0\n",
       "emp_name              0\n",
       "department            0\n",
       "designation           0\n",
       "DOJ                   0\n",
       "age                   0\n",
       "experience          152\n",
       "salary              160\n",
       "no_of_promotions    149\n",
       "education             0\n",
       "dtype: int64"
      ]
     },
     "execution_count": 51,
     "metadata": {},
     "output_type": "execute_result"
    }
   ],
   "source": [
    "#no.of.null values in each col\n",
    "df_employee_data.isnull().sum()\n"
   ]
  },
  {
   "cell_type": "code",
   "execution_count": 52,
   "metadata": {},
   "outputs": [],
   "source": [
    "#removing the duplicate rows based on emp_id\n",
    "df_employee_data = df_employee_data.drop_duplicates(subset='emp_id', keep='first')"
   ]
  },
  {
   "cell_type": "code",
   "execution_count": 53,
   "metadata": {},
   "outputs": [
    {
     "name": "stdout",
     "output_type": "stream",
     "text": [
      "22\n",
      "50\n"
     ]
    }
   ],
   "source": [
    "print(df_employee_data['age'].min())\n",
    "print(df_employee_data['age'].max())"
   ]
  },
  {
   "cell_type": "code",
   "execution_count": 54,
   "metadata": {},
   "outputs": [],
   "source": [
    "#filling the experience based on age\n",
    "df_employee_data['experience'] = df_employee_data['experience'].fillna(df_employee_data['age'] - 21)#considering employee with 22 years have 1 yr of experience"
   ]
  },
  {
   "cell_type": "code",
   "execution_count": 55,
   "metadata": {},
   "outputs": [],
   "source": [
    "df_employee_data['experience'] = df_employee_data['experience'].apply(lambda x: max(x, 0))#converting to 0 if experience is a negative value"
   ]
  },
  {
   "cell_type": "code",
   "execution_count": 56,
   "metadata": {},
   "outputs": [
    {
     "name": "stdout",
     "output_type": "stream",
     "text": [
      "experience\n",
      "0      27936.512048\n",
      "1      27080.236025\n",
      "2      27168.438889\n",
      "3      42376.238754\n",
      "4      42123.731788\n",
      "5      42096.797048\n",
      "6      64063.874251\n",
      "7          41064.25\n",
      "8           44638.0\n",
      "9           61894.4\n",
      "10       65559.4825\n",
      "11     99991.881564\n",
      "12     64551.111111\n",
      "13          59261.0\n",
      "14     60021.166667\n",
      "15         67711.75\n",
      "16          71250.2\n",
      "17     62458.333333\n",
      "18     63322.666667\n",
      "19    101237.833333\n",
      "20     99581.415476\n",
      "21    101532.333333\n",
      "22          95753.4\n",
      "23         102132.8\n",
      "24        105301.75\n",
      "25    102390.285714\n",
      "26         102480.5\n",
      "27          94004.0\n",
      "28          92160.2\n",
      "29          97107.2\n",
      "Name: salary, dtype: Float64\n"
     ]
    }
   ],
   "source": [
    "mean_salary_by_experience = df_employee_data.groupby('experience')['salary'].mean()\n",
    "print(mean_salary_by_experience)"
   ]
  },
  {
   "cell_type": "code",
   "execution_count": 57,
   "metadata": {},
   "outputs": [],
   "source": [
    "def fill_salary(row):\n",
    "    if pd.isnull(row['salary']):\n",
    "        # Look up the mean salary for the employee's experience\n",
    "        return mean_salary_by_experience.get(row['experience'], df_employee_data['salary'].mean())\n",
    "    return row['salary'] "
   ]
  },
  {
   "cell_type": "code",
   "execution_count": 58,
   "metadata": {},
   "outputs": [],
   "source": [
    "#filling the null values in the salary col with mean value based on experience\n",
    "df_employee_data['salary'] = df_employee_data.apply(fill_salary, axis=1)"
   ]
  },
  {
   "cell_type": "code",
   "execution_count": 59,
   "metadata": {},
   "outputs": [
    {
     "name": "stdout",
     "output_type": "stream",
     "text": [
      "0\n",
      "29\n"
     ]
    }
   ],
   "source": [
    "print(df_employee_data['experience'].min())\n",
    "print(df_employee_data['experience'].max())"
   ]
  },
  {
   "cell_type": "code",
   "execution_count": 60,
   "metadata": {},
   "outputs": [],
   "source": [
    "#filling the null values in promotion\n",
    "for i in range(len(df_employee_data)):\n",
    "    experience = df_employee_data.loc[i, 'experience']\n",
    "    \n",
    "    if pd.isnull(df_employee_data.loc[i, 'no_of_promotions']):\n",
    "        # Set promotion based on experience logic\n",
    "        if experience < 5:\n",
    "            df_employee_data.loc[i, 'no_of_promotions'] = 0\n",
    "        elif 5 <= experience < 10:\n",
    "            df_employee_data.loc[i, 'no_of_promotions'] = 1\n",
    "        elif 10 <= experience < 15:\n",
    "            df_employee_data.loc[i, 'no_of_promotions'] = 2\n",
    "        elif 15 <= experience < 20:\n",
    "            df_employee_data.loc[i, 'no_of_promotions'] = 4\n",
    "        elif 20 <= experience < 25:\n",
    "            df_employee_data.loc[i, 'no_of_promotions'] = 5\n",
    "        else:  # experience >= 25\n",
    "            df_employee_data.loc[i, 'no_of_promotions'] = 6"
   ]
  },
  {
   "cell_type": "code",
   "execution_count": 61,
   "metadata": {},
   "outputs": [
    {
     "data": {
      "text/plain": [
       "emp_id              0\n",
       "emp_name            0\n",
       "department          0\n",
       "designation         0\n",
       "DOJ                 0\n",
       "age                 0\n",
       "experience          0\n",
       "salary              0\n",
       "no_of_promotions    0\n",
       "education           0\n",
       "dtype: int64"
      ]
     },
     "execution_count": 61,
     "metadata": {},
     "output_type": "execute_result"
    }
   ],
   "source": [
    "df_employee_data.isnull().sum()"
   ]
  },
  {
   "cell_type": "code",
   "execution_count": 62,
   "metadata": {},
   "outputs": [
    {
     "data": {
      "text/plain": [
       "(5000, 10)"
      ]
     },
     "execution_count": 62,
     "metadata": {},
     "output_type": "execute_result"
    }
   ],
   "source": [
    "df_employee_data.shape"
   ]
  },
  {
   "cell_type": "code",
   "execution_count": 63,
   "metadata": {},
   "outputs": [],
   "source": [
    "#move the cleaned file into prep folder\n",
    "target_path=os.path.join(prep_folder,'emp_data_prep.csv')\n",
    "df_employee_data.to_csv(target_path, index=False)"
   ]
  }
 ],
 "metadata": {
  "kernelspec": {
   "display_name": "Python 3",
   "language": "python",
   "name": "python3"
  },
  "language_info": {
   "codemirror_mode": {
    "name": "ipython",
    "version": 3
   },
   "file_extension": ".py",
   "mimetype": "text/x-python",
   "name": "python",
   "nbconvert_exporter": "python",
   "pygments_lexer": "ipython3",
   "version": "3.12.7"
  }
 },
 "nbformat": 4,
 "nbformat_minor": 2
}
