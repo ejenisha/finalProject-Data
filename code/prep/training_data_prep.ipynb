{
 "cells": [
  {
   "cell_type": "code",
   "execution_count": 18,
   "metadata": {},
   "outputs": [],
   "source": [
    "#importing libraries\n",
    "import os\n",
    "import pandas as pd"
   ]
  },
  {
   "cell_type": "code",
   "execution_count": 19,
   "metadata": {},
   "outputs": [],
   "source": [
    "staging_folder = r'C:\\Users\\JenishaE\\Documents\\finalDE\\finalProject-Data\\staging'\n",
    "prep_folder = r'C:\\Users\\JenishaE\\Documents\\finalDE\\finalProject-Data\\prep'"
   ]
  },
  {
   "cell_type": "code",
   "execution_count": 20,
   "metadata": {},
   "outputs": [],
   "source": [
    "if not os.path.exists(prep_folder):\n",
    "    os.makedirs(prep_folder)"
   ]
  },
  {
   "cell_type": "code",
   "execution_count": 21,
   "metadata": {},
   "outputs": [],
   "source": [
    "#path of the file\n",
    "file_path=os.path.join(staging_folder,'loaded_training.csv')"
   ]
  },
  {
   "cell_type": "code",
   "execution_count": 22,
   "metadata": {},
   "outputs": [],
   "source": [
    "#converting csv files to data frame\n",
    "df_training_data=pd.read_csv(file_path)"
   ]
  },
  {
   "cell_type": "code",
   "execution_count": 23,
   "metadata": {},
   "outputs": [
    {
     "data": {
      "text/html": [
       "<div>\n",
       "<style scoped>\n",
       "    .dataframe tbody tr th:only-of-type {\n",
       "        vertical-align: middle;\n",
       "    }\n",
       "\n",
       "    .dataframe tbody tr th {\n",
       "        vertical-align: top;\n",
       "    }\n",
       "\n",
       "    .dataframe thead th {\n",
       "        text-align: right;\n",
       "    }\n",
       "</style>\n",
       "<table border=\"1\" class=\"dataframe\">\n",
       "  <thead>\n",
       "    <tr style=\"text-align: right;\">\n",
       "      <th></th>\n",
       "      <th>emp_id</th>\n",
       "      <th>emp_name</th>\n",
       "      <th>T_id</th>\n",
       "      <th>T_name</th>\n",
       "      <th>project_score</th>\n",
       "      <th>hackerrank_score</th>\n",
       "      <th>completed</th>\n",
       "    </tr>\n",
       "  </thead>\n",
       "  <tbody>\n",
       "    <tr>\n",
       "      <th>0</th>\n",
       "      <td>E2082</td>\n",
       "      <td>Laurie Jones</td>\n",
       "      <td>T001</td>\n",
       "      <td>SQL Mastery</td>\n",
       "      <td>18</td>\n",
       "      <td>32</td>\n",
       "      <td>0</td>\n",
       "    </tr>\n",
       "    <tr>\n",
       "      <th>1</th>\n",
       "      <td>E467</td>\n",
       "      <td>Brooke Griffin</td>\n",
       "      <td>T002</td>\n",
       "      <td>React and Redux</td>\n",
       "      <td>32</td>\n",
       "      <td>8</td>\n",
       "      <td>0</td>\n",
       "    </tr>\n",
       "    <tr>\n",
       "      <th>2</th>\n",
       "      <td>E261</td>\n",
       "      <td>Kylie Moran</td>\n",
       "      <td>T003</td>\n",
       "      <td>Business Process Management</td>\n",
       "      <td>23</td>\n",
       "      <td>83</td>\n",
       "      <td>1</td>\n",
       "    </tr>\n",
       "    <tr>\n",
       "      <th>3</th>\n",
       "      <td>E699</td>\n",
       "      <td>John Beck</td>\n",
       "      <td>T004</td>\n",
       "      <td>Client Relationship Management</td>\n",
       "      <td>37</td>\n",
       "      <td>24</td>\n",
       "      <td>1</td>\n",
       "    </tr>\n",
       "    <tr>\n",
       "      <th>4</th>\n",
       "      <td>E3749</td>\n",
       "      <td>Paul Henderson</td>\n",
       "      <td>T005</td>\n",
       "      <td>Full-Stack Web Development</td>\n",
       "      <td>18</td>\n",
       "      <td>72</td>\n",
       "      <td>1</td>\n",
       "    </tr>\n",
       "  </tbody>\n",
       "</table>\n",
       "</div>"
      ],
      "text/plain": [
       "  emp_id        emp_name  T_id                          T_name  project_score  \\\n",
       "0  E2082    Laurie Jones  T001                     SQL Mastery             18   \n",
       "1   E467  Brooke Griffin  T002                 React and Redux             32   \n",
       "2   E261     Kylie Moran  T003     Business Process Management             23   \n",
       "3   E699       John Beck  T004  Client Relationship Management             37   \n",
       "4  E3749  Paul Henderson  T005      Full-Stack Web Development             18   \n",
       "\n",
       "   hackerrank_score  completed  \n",
       "0                32          0  \n",
       "1                 8          0  \n",
       "2                83          1  \n",
       "3                24          1  \n",
       "4                72          1  "
      ]
     },
     "execution_count": 23,
     "metadata": {},
     "output_type": "execute_result"
    }
   ],
   "source": [
    "df_training_data.head()"
   ]
  },
  {
   "cell_type": "code",
   "execution_count": 24,
   "metadata": {},
   "outputs": [
    {
     "data": {
      "text/plain": [
       "Index(['emp_id', 'emp_name', 'T_id', 'T_name', 'project_score',\n",
       "       'hackerrank_score', 'completed'],\n",
       "      dtype='object')"
      ]
     },
     "execution_count": 24,
     "metadata": {},
     "output_type": "execute_result"
    }
   ],
   "source": [
    "#print all the cols\n",
    "df_training_data.columns"
   ]
  },
  {
   "cell_type": "code",
   "execution_count": 25,
   "metadata": {},
   "outputs": [
    {
     "data": {
      "text/plain": [
       "(5500, 7)"
      ]
     },
     "execution_count": 25,
     "metadata": {},
     "output_type": "execute_result"
    }
   ],
   "source": [
    "#no.of.rows and cols\n",
    "df_training_data.shape"
   ]
  },
  {
   "cell_type": "code",
   "execution_count": 26,
   "metadata": {},
   "outputs": [
    {
     "data": {
      "text/plain": [
       "emp_id              0\n",
       "emp_name            0\n",
       "T_id                0\n",
       "T_name              0\n",
       "project_score       0\n",
       "hackerrank_score    0\n",
       "completed           0\n",
       "dtype: int64"
      ]
     },
     "execution_count": 26,
     "metadata": {},
     "output_type": "execute_result"
    }
   ],
   "source": [
    "#null values in each col\n",
    "df_training_data.isnull().sum()"
   ]
  },
  {
   "cell_type": "code",
   "execution_count": 27,
   "metadata": {},
   "outputs": [
    {
     "data": {
      "text/plain": [
       "emp_id              object\n",
       "emp_name            object\n",
       "T_id                object\n",
       "T_name              object\n",
       "project_score        int64\n",
       "hackerrank_score     int64\n",
       "completed            int64\n",
       "dtype: object"
      ]
     },
     "execution_count": 27,
     "metadata": {},
     "output_type": "execute_result"
    }
   ],
   "source": [
    "#data type of the cols\n",
    "df_training_data.dtypes"
   ]
  },
  {
   "cell_type": "code",
   "execution_count": 28,
   "metadata": {},
   "outputs": [],
   "source": [
    "#converting the data type\n",
    "df_training_data['emp_id'] = df_training_data['emp_id'].astype('string')\n",
    "df_training_data['emp_name'] = df_training_data['emp_name'].astype('string')\n",
    "df_training_data['T_id'] = df_training_data['T_id'].astype('string')\n",
    "df_training_data['T_name'] = df_training_data['T_name'].astype('string')\n",
    "df_training_data['project_score'] = df_training_data['project_score'].astype('Int64')\n",
    "df_training_data['hackerrank_score'] = df_training_data['hackerrank_score'].astype('Int64')\n",
    "df_training_data['completed'] = df_training_data['completed'].astype('Int64')"
   ]
  },
  {
   "cell_type": "code",
   "execution_count": 29,
   "metadata": {},
   "outputs": [],
   "source": [
    "#droping the duplicate rows based on emp_id and training_id\n",
    "f_training_data = df_training_data.drop_duplicates(subset=['emp_id', 'T_id'])"
   ]
  },
  {
   "cell_type": "code",
   "execution_count": 30,
   "metadata": {},
   "outputs": [
    {
     "data": {
      "text/plain": [
       "(5273, 7)"
      ]
     },
     "execution_count": 30,
     "metadata": {},
     "output_type": "execute_result"
    }
   ],
   "source": [
    "df_training_data.shape"
   ]
  },
  {
   "cell_type": "code",
   "execution_count": 31,
   "metadata": {},
   "outputs": [],
   "source": [
    "#moving the cleaned file to prep layer\n",
    "target_path=os.path.join(prep_folder,'training_data_prep.csv')\n",
    "df_training_data.to_csv(target_path, index=False)"
   ]
  }
 ],
 "metadata": {
  "kernelspec": {
   "display_name": "Python 3",
   "language": "python",
   "name": "python3"
  },
  "language_info": {
   "codemirror_mode": {
    "name": "ipython",
    "version": 3
   },
   "file_extension": ".py",
   "mimetype": "text/x-python",
   "name": "python",
   "nbconvert_exporter": "python",
   "pygments_lexer": "ipython3",
   "version": "3.12.7"
  }
 },
 "nbformat": 4,
 "nbformat_minor": 2
}
