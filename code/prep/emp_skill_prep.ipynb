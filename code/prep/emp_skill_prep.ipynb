{
 "cells": [
  {
   "cell_type": "code",
   "execution_count": 67,
   "metadata": {},
   "outputs": [],
   "source": [
    "import os\n",
    "import pandas as pd"
   ]
  },
  {
   "cell_type": "code",
   "execution_count": 68,
   "metadata": {},
   "outputs": [],
   "source": [
    "staging_folder = r'C:\\Users\\JenishaE\\Documents\\finalDE\\finalProject-Data\\staging'\n",
    "prep_folder = r'C:\\Users\\JenishaE\\Documents\\finalDE\\finalProject-Data\\prep'"
   ]
  },
  {
   "cell_type": "code",
   "execution_count": 69,
   "metadata": {},
   "outputs": [],
   "source": [
    "if not os.path.exists(prep_folder):\n",
    "    os.makedirs(prep_folder)"
   ]
  },
  {
   "cell_type": "code",
   "execution_count": 70,
   "metadata": {},
   "outputs": [],
   "source": [
    "file_path=os.path.join(staging_folder,'loaded_employee_skills_data.csv')"
   ]
  },
  {
   "cell_type": "code",
   "execution_count": 71,
   "metadata": {},
   "outputs": [],
   "source": [
    "df_employee_skill=pd.read_csv(file_path)"
   ]
  },
  {
   "cell_type": "code",
   "execution_count": 72,
   "metadata": {},
   "outputs": [
    {
     "data": {
      "text/html": [
       "<div>\n",
       "<style scoped>\n",
       "    .dataframe tbody tr th:only-of-type {\n",
       "        vertical-align: middle;\n",
       "    }\n",
       "\n",
       "    .dataframe tbody tr th {\n",
       "        vertical-align: top;\n",
       "    }\n",
       "\n",
       "    .dataframe thead th {\n",
       "        text-align: right;\n",
       "    }\n",
       "</style>\n",
       "<table border=\"1\" class=\"dataframe\">\n",
       "  <thead>\n",
       "    <tr style=\"text-align: right;\">\n",
       "      <th></th>\n",
       "      <th>emp_id</th>\n",
       "      <th>emp_name</th>\n",
       "      <th>skill_id</th>\n",
       "      <th>skill_name</th>\n",
       "      <th>proficiency_level</th>\n",
       "      <th>no_of_projects_done_in_that_skill</th>\n",
       "      <th>certifications</th>\n",
       "    </tr>\n",
       "  </thead>\n",
       "  <tbody>\n",
       "    <tr>\n",
       "      <th>0</th>\n",
       "      <td>E747</td>\n",
       "      <td>Kelly Meza</td>\n",
       "      <td>S013</td>\n",
       "      <td>Financial Modeling</td>\n",
       "      <td>3.0</td>\n",
       "      <td>4.0</td>\n",
       "      <td>No</td>\n",
       "    </tr>\n",
       "    <tr>\n",
       "      <th>1</th>\n",
       "      <td>E1625</td>\n",
       "      <td>Shawn Rocha</td>\n",
       "      <td>S006</td>\n",
       "      <td>Python</td>\n",
       "      <td>5.0</td>\n",
       "      <td>2.0</td>\n",
       "      <td>Yes</td>\n",
       "    </tr>\n",
       "    <tr>\n",
       "      <th>2</th>\n",
       "      <td>E4373</td>\n",
       "      <td>Christine Choi</td>\n",
       "      <td>S002</td>\n",
       "      <td>React</td>\n",
       "      <td>7.0</td>\n",
       "      <td>6.0</td>\n",
       "      <td>Yes</td>\n",
       "    </tr>\n",
       "    <tr>\n",
       "      <th>3</th>\n",
       "      <td>E565</td>\n",
       "      <td>Dr. Chelsey Wallace</td>\n",
       "      <td>S012</td>\n",
       "      <td>Project Management</td>\n",
       "      <td>7.0</td>\n",
       "      <td>9.0</td>\n",
       "      <td>No</td>\n",
       "    </tr>\n",
       "    <tr>\n",
       "      <th>4</th>\n",
       "      <td>E3652</td>\n",
       "      <td>Gary Mendoza</td>\n",
       "      <td>S004</td>\n",
       "      <td>Docker</td>\n",
       "      <td>9.0</td>\n",
       "      <td>8.0</td>\n",
       "      <td>No</td>\n",
       "    </tr>\n",
       "  </tbody>\n",
       "</table>\n",
       "</div>"
      ],
      "text/plain": [
       "  emp_id             emp_name skill_id          skill_name  proficiency_level  \\\n",
       "0   E747           Kelly Meza     S013  Financial Modeling                3.0   \n",
       "1  E1625          Shawn Rocha     S006              Python                5.0   \n",
       "2  E4373       Christine Choi     S002               React                7.0   \n",
       "3   E565  Dr. Chelsey Wallace     S012  Project Management                7.0   \n",
       "4  E3652         Gary Mendoza     S004              Docker                9.0   \n",
       "\n",
       "   no_of_projects_done_in_that_skill certifications  \n",
       "0                                4.0             No  \n",
       "1                                2.0            Yes  \n",
       "2                                6.0            Yes  \n",
       "3                                9.0             No  \n",
       "4                                8.0             No  "
      ]
     },
     "execution_count": 72,
     "metadata": {},
     "output_type": "execute_result"
    }
   ],
   "source": [
    "df_employee_skill.head()"
   ]
  },
  {
   "cell_type": "code",
   "execution_count": 73,
   "metadata": {},
   "outputs": [
    {
     "data": {
      "text/plain": [
       "Index(['emp_id', 'emp_name', 'skill_id', 'skill_name', 'proficiency_level',\n",
       "       'no_of_projects_done_in_that_skill', 'certifications'],\n",
       "      dtype='object')"
      ]
     },
     "execution_count": 73,
     "metadata": {},
     "output_type": "execute_result"
    }
   ],
   "source": [
    "df_employee_skill.columns"
   ]
  },
  {
   "cell_type": "code",
   "execution_count": 74,
   "metadata": {},
   "outputs": [
    {
     "data": {
      "text/plain": [
       "(5700, 7)"
      ]
     },
     "execution_count": 74,
     "metadata": {},
     "output_type": "execute_result"
    }
   ],
   "source": [
    "df_employee_skill.shape"
   ]
  },
  {
   "cell_type": "code",
   "execution_count": 75,
   "metadata": {},
   "outputs": [
    {
     "data": {
      "text/plain": [
       "emp_id                                0\n",
       "emp_name                              0\n",
       "skill_id                              0\n",
       "skill_name                            0\n",
       "proficiency_level                    27\n",
       "no_of_projects_done_in_that_skill    13\n",
       "certifications                       25\n",
       "dtype: int64"
      ]
     },
     "execution_count": 75,
     "metadata": {},
     "output_type": "execute_result"
    }
   ],
   "source": [
    "df_employee_skill.isnull().sum()"
   ]
  },
  {
   "cell_type": "code",
   "execution_count": 76,
   "metadata": {},
   "outputs": [
    {
     "data": {
      "text/plain": [
       "emp_id                                object\n",
       "emp_name                              object\n",
       "skill_id                              object\n",
       "skill_name                            object\n",
       "proficiency_level                    float64\n",
       "no_of_projects_done_in_that_skill    float64\n",
       "certifications                        object\n",
       "dtype: object"
      ]
     },
     "execution_count": 76,
     "metadata": {},
     "output_type": "execute_result"
    }
   ],
   "source": [
    "df_employee_skill.dtypes"
   ]
  },
  {
   "cell_type": "code",
   "execution_count": 77,
   "metadata": {},
   "outputs": [],
   "source": [
    "df_employee_skill['emp_id'] = df_employee_skill['emp_id'].astype('string')\n",
    "df_employee_skill['emp_name'] = df_employee_skill['emp_name'].astype('string')\n",
    "df_employee_skill['skill_id'] = df_employee_skill['skill_id'].astype('string')\n",
    "df_employee_skill['skill_name'] = df_employee_skill['skill_name'].astype('string')\n",
    "df_employee_skill['proficiency_level'] = df_employee_skill['proficiency_level'].astype('Int64')\n",
    "df_employee_skill['no_of_projects_done_in_that_skill'] = df_employee_skill['no_of_projects_done_in_that_skill'].astype('Int64')\n",
    "df_employee_skill['certifications'] = df_employee_skill['certifications'].astype('string')\n"
   ]
  },
  {
   "cell_type": "code",
   "execution_count": 78,
   "metadata": {},
   "outputs": [
    {
     "name": "stdout",
     "output_type": "stream",
     "text": [
      "1\n",
      "10\n",
      "1\n",
      "12\n"
     ]
    }
   ],
   "source": [
    "print(df_employee_skill['proficiency_level'].min())\n",
    "print(df_employee_skill['proficiency_level'].max())\n",
    "print(df_employee_skill['no_of_projects_done_in_that_skill'].min())\n",
    "print(df_employee_skill['no_of_projects_done_in_that_skill'].max())"
   ]
  },
  {
   "cell_type": "code",
   "execution_count": 79,
   "metadata": {},
   "outputs": [],
   "source": [
    "def calculate_proficiency(no_of_projects):\n",
    "    if pd.isna(no_of_projects):\n",
    "        return None\n",
    "    if no_of_projects > 5:\n",
    "        return min(10, no_of_projects)  # Proficiency capped at 10\n",
    "    else:\n",
    "        return max(1, no_of_projects) "
   ]
  },
  {
   "cell_type": "code",
   "execution_count": 80,
   "metadata": {},
   "outputs": [],
   "source": [
    "df_employee_skill['proficiency_level'] = df_employee_skill.apply(\n",
    "    lambda row: calculate_proficiency(row['no_of_projects_done_in_that_skill']) \n",
    "    if pd.isna(row['proficiency_level']) else row['proficiency_level'], \n",
    "    axis=1\n",
    ")\n"
   ]
  },
  {
   "cell_type": "code",
   "execution_count": 81,
   "metadata": {},
   "outputs": [
    {
     "data": {
      "text/plain": [
       "emp_id                                0\n",
       "emp_name                              0\n",
       "skill_id                              0\n",
       "skill_name                            0\n",
       "proficiency_level                     0\n",
       "no_of_projects_done_in_that_skill    13\n",
       "certifications                       25\n",
       "dtype: int64"
      ]
     },
     "execution_count": 81,
     "metadata": {},
     "output_type": "execute_result"
    }
   ],
   "source": [
    "df_employee_skill.isnull().sum()"
   ]
  },
  {
   "cell_type": "code",
   "execution_count": 82,
   "metadata": {},
   "outputs": [],
   "source": [
    "def fill_projects_based_on_proficiency(row):\n",
    "    if pd.isna(row['no_of_projects_done_in_that_skill']):\n",
    "        if row['proficiency_level'] > 5:\n",
    "            return 6 + (row['proficiency_level'] - 5)  # Projects in range of 6 to 12\n",
    "        else:\n",
    "            return row['proficiency_level']  # Projects below 6\n",
    "    return row['no_of_projects_done_in_that_skill']  # If not NaN, keep the original value"
   ]
  },
  {
   "cell_type": "code",
   "execution_count": 83,
   "metadata": {},
   "outputs": [],
   "source": [
    "df_employee_skill['no_of_projects_done_in_that_skill'] = df_employee_skill.apply(fill_projects_based_on_proficiency, axis=1)"
   ]
  },
  {
   "cell_type": "code",
   "execution_count": 84,
   "metadata": {},
   "outputs": [],
   "source": [
    "df_employee_skill['certifications']=df_employee_skill['certifications'].fillna(df_employee_skill['proficiency_level'].apply(lambda x: 'Yes' if x > 5 else 'No'))"
   ]
  },
  {
   "cell_type": "code",
   "execution_count": 85,
   "metadata": {},
   "outputs": [
    {
     "data": {
      "text/plain": [
       "emp_id                               string[python]\n",
       "emp_name                             string[python]\n",
       "skill_id                             string[python]\n",
       "skill_name                           string[python]\n",
       "proficiency_level                             int64\n",
       "no_of_projects_done_in_that_skill             int64\n",
       "certifications                       string[python]\n",
       "dtype: object"
      ]
     },
     "execution_count": 85,
     "metadata": {},
     "output_type": "execute_result"
    }
   ],
   "source": [
    "df_employee_skill.dtypes"
   ]
  },
  {
   "cell_type": "code",
   "execution_count": 86,
   "metadata": {},
   "outputs": [],
   "source": [
    "df_employee_skill = df_employee_skill.drop_duplicates(subset=['emp_id', 'skill_id'])"
   ]
  },
  {
   "cell_type": "code",
   "execution_count": 87,
   "metadata": {},
   "outputs": [
    {
     "data": {
      "text/plain": [
       "(5509, 7)"
      ]
     },
     "execution_count": 87,
     "metadata": {},
     "output_type": "execute_result"
    }
   ],
   "source": [
    "df_employee_skill.shape"
   ]
  },
  {
   "cell_type": "code",
   "execution_count": 88,
   "metadata": {},
   "outputs": [],
   "source": [
    "target_path=os.path.join(prep_folder,'employee_skill_prep.csv')\n",
    "df_employee_skill.to_csv(target_path, index=False)"
   ]
  }
 ],
 "metadata": {
  "kernelspec": {
   "display_name": "Python 3",
   "language": "python",
   "name": "python3"
  },
  "language_info": {
   "codemirror_mode": {
    "name": "ipython",
    "version": 3
   },
   "file_extension": ".py",
   "mimetype": "text/x-python",
   "name": "python",
   "nbconvert_exporter": "python",
   "pygments_lexer": "ipython3",
   "version": "3.12.7"
  }
 },
 "nbformat": 4,
 "nbformat_minor": 2
}
