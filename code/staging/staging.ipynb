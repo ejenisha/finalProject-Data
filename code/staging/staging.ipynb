{
 "cells": [
  {
   "cell_type": "code",
   "execution_count": 7,
   "metadata": {},
   "outputs": [],
   "source": [
    "import os\n",
    "import pandas as pd\n",
    "\n",
    "# Define the source folder and target folder\n",
    "source_folder = r'C:\\Users\\JenishaE\\Documents\\finalDE\\finalProject-Data\\source data'\n",
    "target_folder = r'C:\\Users\\JenishaE\\Documents\\finalDE\\finalProject-Data\\staging'\n",
    "\n",
    "# Create target folder if it doesn't exist\n",
    "if not os.path.exists(target_folder):\n",
    "    os.makedirs(target_folder)\n",
    "\n",
    "# Read and load CSV files from the source folder\n"
   ]
  },
  {
   "cell_type": "code",
   "execution_count": 8,
   "metadata": {},
   "outputs": [
    {
     "name": "stdout",
     "output_type": "stream",
     "text": [
      "Successfully read: employee_data.csv\n",
      "Saved to: C:\\Users\\JenishaE\\Documents\\finalDE\\finalProject-Data\\staging\\loaded_employee_data.csv\n",
      "Successfully read: employee_skills_data.csv\n",
      "Saved to: C:\\Users\\JenishaE\\Documents\\finalDE\\finalProject-Data\\staging\\loaded_employee_skills_data.csv\n",
      "Successfully read: job_performance_data.csv\n",
      "Saved to: C:\\Users\\JenishaE\\Documents\\finalDE\\finalProject-Data\\staging\\loaded_job_performance_data.csv\n",
      "Successfully read: skills_data.csv\n",
      "Saved to: C:\\Users\\JenishaE\\Documents\\finalDE\\finalProject-Data\\staging\\loaded_skills_data.csv\n",
      "Successfully read: training.csv\n",
      "Saved to: C:\\Users\\JenishaE\\Documents\\finalDE\\finalProject-Data\\staging\\loaded_training.csv\n"
     ]
    }
   ],
   "source": [
    "for file_name in os.listdir(source_folder):\n",
    "    if file_name.endswith('.csv'):\n",
    "        # Construct the full path for the CSV file\n",
    "        file_path = os.path.join(source_folder, file_name)\n",
    "        \n",
    "        # Read the CSV file using pandas\n",
    "        try:\n",
    "            df = pd.read_csv(file_path)\n",
    "            print(f\"Successfully read: {file_name}\")\n",
    "            \n",
    "            # Save the DataFrame to the target folder with a new name if needed\n",
    "            # For example, saving with a prefix \"loaded_\"\n",
    "            new_file_path = os.path.join(target_folder, f\"loaded_{file_name}\")\n",
    "            df.to_csv(new_file_path, index=False)\n",
    "            print(f\"Saved to: {new_file_path}\")\n",
    "        \n",
    "        except Exception as e:\n",
    "            print(f\"Error reading {file_name}: {e}\")\n"
   ]
  }
 ],
 "metadata": {
  "kernelspec": {
   "display_name": "Python 3",
   "language": "python",
   "name": "python3"
  },
  "language_info": {
   "codemirror_mode": {
    "name": "ipython",
    "version": 3
   },
   "file_extension": ".py",
   "mimetype": "text/x-python",
   "name": "python",
   "nbconvert_exporter": "python",
   "pygments_lexer": "ipython3",
   "version": "3.12.7"
  }
 },
 "nbformat": 4,
 "nbformat_minor": 2
}
