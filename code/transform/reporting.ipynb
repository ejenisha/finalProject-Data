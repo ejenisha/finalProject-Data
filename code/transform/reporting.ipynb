{
 "cells": [
  {
   "cell_type": "code",
   "execution_count": 244,
   "metadata": {},
   "outputs": [],
   "source": [
    "import pandas as pd\n",
    "import os"
   ]
  },
  {
   "cell_type": "code",
   "execution_count": 245,
   "metadata": {},
   "outputs": [],
   "source": [
    "prep_folder = r'C:\\Users\\JenishaE\\Documents\\finalDE\\finalProject-Data\\prep'\n",
    "reporting_folder=r'C:\\Users\\JenishaE\\Documents\\finalDE\\finalProject-Data\\reporting'\n"
   ]
  },
  {
   "cell_type": "code",
   "execution_count": 246,
   "metadata": {},
   "outputs": [],
   "source": [
    "emp_skills_data_prep_path = os.path.join(prep_folder, 'emp_skill_data_prep.csv')\n",
    "emp_data_prep_path=os.path.join(prep_folder,'emp_data_prep.csv')\n",
    "skills_data_prep_path=os.path.join(prep_folder,'skills_data_prep.csv')\n",
    "jobperformance_data_prep_path=os.path.join(prep_folder,'job_performance_prep.csv')\n",
    "training_data_prep_path=os.path.join(prep_folder,'training_data_prep.csv')"
   ]
  },
  {
   "cell_type": "code",
   "execution_count": 247,
   "metadata": {},
   "outputs": [],
   "source": [
    "df_emp=pd.read_csv(emp_data_prep_path)\n",
    "df_skills = pd.read_csv(skills_data_prep_path)\n",
    "df_emp_skills = pd.read_csv(emp_skills_data_prep_path)\n",
    "df_training = pd.read_csv(training_data_prep_path)\n",
    "df_job_performance=pd.read_csv(jobperformance_data_prep_path)"
   ]
  },
  {
   "cell_type": "code",
   "execution_count": 262,
   "metadata": {},
   "outputs": [
    {
     "data": {
      "text/plain": [
       "emp_id               object\n",
       "emp_name             object\n",
       "department           object\n",
       "designation          object\n",
       "DOJ                  object\n",
       "age                   int64\n",
       "experience            int64\n",
       "salary              float64\n",
       "no_of_promotions      int64\n",
       "education            object\n",
       "dtype: object"
      ]
     },
     "execution_count": 262,
     "metadata": {},
     "output_type": "execute_result"
    }
   ],
   "source": [
    "df_emp.dtypes"
   ]
  },
  {
   "cell_type": "markdown",
   "metadata": {},
   "source": [
    "Employee Dimension Table"
   ]
  },
  {
   "cell_type": "code",
   "execution_count": 248,
   "metadata": {},
   "outputs": [],
   "source": [
    "emp_dim=df_emp"
   ]
  },
  {
   "cell_type": "code",
   "execution_count": 249,
   "metadata": {},
   "outputs": [
    {
     "data": {
      "text/html": [
       "<div>\n",
       "<style scoped>\n",
       "    .dataframe tbody tr th:only-of-type {\n",
       "        vertical-align: middle;\n",
       "    }\n",
       "\n",
       "    .dataframe tbody tr th {\n",
       "        vertical-align: top;\n",
       "    }\n",
       "\n",
       "    .dataframe thead th {\n",
       "        text-align: right;\n",
       "    }\n",
       "</style>\n",
       "<table border=\"1\" class=\"dataframe\">\n",
       "  <thead>\n",
       "    <tr style=\"text-align: right;\">\n",
       "      <th></th>\n",
       "      <th>emp_id</th>\n",
       "      <th>emp_name</th>\n",
       "      <th>department</th>\n",
       "      <th>designation</th>\n",
       "      <th>DOJ</th>\n",
       "      <th>age</th>\n",
       "      <th>experience</th>\n",
       "      <th>salary</th>\n",
       "      <th>no_of_promotions</th>\n",
       "      <th>education</th>\n",
       "    </tr>\n",
       "  </thead>\n",
       "  <tbody>\n",
       "    <tr>\n",
       "      <th>0</th>\n",
       "      <td>E001</td>\n",
       "      <td>Sharon Burns</td>\n",
       "      <td>Finance</td>\n",
       "      <td>Senior Developer</td>\n",
       "      <td>2006-11-22</td>\n",
       "      <td>45</td>\n",
       "      <td>11</td>\n",
       "      <td>95402.0</td>\n",
       "      <td>1</td>\n",
       "      <td>Bachelors</td>\n",
       "    </tr>\n",
       "    <tr>\n",
       "      <th>1</th>\n",
       "      <td>E002</td>\n",
       "      <td>Hannah Sanchez</td>\n",
       "      <td>Finance</td>\n",
       "      <td>Senior Developer</td>\n",
       "      <td>2010-02-25</td>\n",
       "      <td>41</td>\n",
       "      <td>11</td>\n",
       "      <td>89438.0</td>\n",
       "      <td>3</td>\n",
       "      <td>Masters</td>\n",
       "    </tr>\n",
       "    <tr>\n",
       "      <th>2</th>\n",
       "      <td>E003</td>\n",
       "      <td>Larry Waters</td>\n",
       "      <td>Marketing</td>\n",
       "      <td>Senior Developer</td>\n",
       "      <td>2019-10-19</td>\n",
       "      <td>44</td>\n",
       "      <td>11</td>\n",
       "      <td>91396.0</td>\n",
       "      <td>2</td>\n",
       "      <td>Masters</td>\n",
       "    </tr>\n",
       "    <tr>\n",
       "      <th>3</th>\n",
       "      <td>E004</td>\n",
       "      <td>Angela Delacruz</td>\n",
       "      <td>Sales</td>\n",
       "      <td>Junior Developer</td>\n",
       "      <td>2014-08-27</td>\n",
       "      <td>24</td>\n",
       "      <td>2</td>\n",
       "      <td>23081.0</td>\n",
       "      <td>0</td>\n",
       "      <td>Bachelors</td>\n",
       "    </tr>\n",
       "    <tr>\n",
       "      <th>4</th>\n",
       "      <td>E005</td>\n",
       "      <td>John Cook</td>\n",
       "      <td>HR</td>\n",
       "      <td>Junior Developer</td>\n",
       "      <td>2009-11-20</td>\n",
       "      <td>24</td>\n",
       "      <td>2</td>\n",
       "      <td>22370.0</td>\n",
       "      <td>0</td>\n",
       "      <td>Masters</td>\n",
       "    </tr>\n",
       "  </tbody>\n",
       "</table>\n",
       "</div>"
      ],
      "text/plain": [
       "  emp_id         emp_name department       designation         DOJ  age  \\\n",
       "0   E001     Sharon Burns    Finance  Senior Developer  2006-11-22   45   \n",
       "1   E002   Hannah Sanchez    Finance  Senior Developer  2010-02-25   41   \n",
       "2   E003     Larry Waters  Marketing  Senior Developer  2019-10-19   44   \n",
       "3   E004  Angela Delacruz      Sales  Junior Developer  2014-08-27   24   \n",
       "4   E005        John Cook         HR  Junior Developer  2009-11-20   24   \n",
       "\n",
       "   experience   salary  no_of_promotions  education  \n",
       "0          11  95402.0                 1  Bachelors  \n",
       "1          11  89438.0                 3    Masters  \n",
       "2          11  91396.0                 2    Masters  \n",
       "3           2  23081.0                 0  Bachelors  \n",
       "4           2  22370.0                 0    Masters  "
      ]
     },
     "execution_count": 249,
     "metadata": {},
     "output_type": "execute_result"
    }
   ],
   "source": [
    "emp_dim.head()"
   ]
  },
  {
   "cell_type": "code",
   "execution_count": 250,
   "metadata": {},
   "outputs": [
    {
     "data": {
      "text/plain": [
       "(5000, 10)"
      ]
     },
     "execution_count": 250,
     "metadata": {},
     "output_type": "execute_result"
    }
   ],
   "source": [
    "emp_dim.shape"
   ]
  },
  {
   "cell_type": "code",
   "execution_count": 251,
   "metadata": {},
   "outputs": [],
   "source": [
    "target_path=os.path.join(reporting_folder,'emp_dim.csv')\n",
    "emp_dim.to_csv(target_path,index=False)"
   ]
  },
  {
   "cell_type": "markdown",
   "metadata": {},
   "source": [
    "skill dimension table"
   ]
  },
  {
   "cell_type": "code",
   "execution_count": 252,
   "metadata": {},
   "outputs": [],
   "source": [
    "skill_dim=df_skills"
   ]
  },
  {
   "cell_type": "code",
   "execution_count": 253,
   "metadata": {},
   "outputs": [
    {
     "data": {
      "text/html": [
       "<div>\n",
       "<style scoped>\n",
       "    .dataframe tbody tr th:only-of-type {\n",
       "        vertical-align: middle;\n",
       "    }\n",
       "\n",
       "    .dataframe tbody tr th {\n",
       "        vertical-align: top;\n",
       "    }\n",
       "\n",
       "    .dataframe thead th {\n",
       "        text-align: right;\n",
       "    }\n",
       "</style>\n",
       "<table border=\"1\" class=\"dataframe\">\n",
       "  <thead>\n",
       "    <tr style=\"text-align: right;\">\n",
       "      <th></th>\n",
       "      <th>skill_id</th>\n",
       "      <th>skill_name</th>\n",
       "      <th>skill_category</th>\n",
       "    </tr>\n",
       "  </thead>\n",
       "  <tbody>\n",
       "    <tr>\n",
       "      <th>0</th>\n",
       "      <td>S001</td>\n",
       "      <td>JavaScript</td>\n",
       "      <td>full_stack</td>\n",
       "    </tr>\n",
       "    <tr>\n",
       "      <th>1</th>\n",
       "      <td>S002</td>\n",
       "      <td>React</td>\n",
       "      <td>full_stack</td>\n",
       "    </tr>\n",
       "    <tr>\n",
       "      <th>2</th>\n",
       "      <td>S003</td>\n",
       "      <td>Node.js</td>\n",
       "      <td>full_stack</td>\n",
       "    </tr>\n",
       "    <tr>\n",
       "      <th>3</th>\n",
       "      <td>S004</td>\n",
       "      <td>Docker</td>\n",
       "      <td>full_stack</td>\n",
       "    </tr>\n",
       "    <tr>\n",
       "      <th>4</th>\n",
       "      <td>S005</td>\n",
       "      <td>HTML/CSS</td>\n",
       "      <td>full_stack</td>\n",
       "    </tr>\n",
       "  </tbody>\n",
       "</table>\n",
       "</div>"
      ],
      "text/plain": [
       "  skill_id  skill_name skill_category\n",
       "0     S001  JavaScript     full_stack\n",
       "1     S002       React     full_stack\n",
       "2     S003     Node.js     full_stack\n",
       "3     S004      Docker     full_stack\n",
       "4     S005    HTML/CSS     full_stack"
      ]
     },
     "execution_count": 253,
     "metadata": {},
     "output_type": "execute_result"
    }
   ],
   "source": [
    "skill_dim.head()"
   ]
  },
  {
   "cell_type": "code",
   "execution_count": 254,
   "metadata": {},
   "outputs": [
    {
     "data": {
      "text/plain": [
       "(15, 3)"
      ]
     },
     "execution_count": 254,
     "metadata": {},
     "output_type": "execute_result"
    }
   ],
   "source": [
    "skill_dim.shape"
   ]
  },
  {
   "cell_type": "code",
   "execution_count": 255,
   "metadata": {},
   "outputs": [],
   "source": [
    "target_path=os.path.join(reporting_folder,'skill_dim.csv')\n",
    "skill_dim.to_csv(target_path,index=False)"
   ]
  },
  {
   "cell_type": "markdown",
   "metadata": {},
   "source": [
    "Training dimension Table"
   ]
  },
  {
   "cell_type": "code",
   "execution_count": 81,
   "metadata": {},
   "outputs": [
    {
     "name": "stdout",
     "output_type": "stream",
     "text": [
      "    T_id                              T_name\n",
      "0   T001                         SQL Mastery\n",
      "1   T002                     React and Redux\n",
      "2   T003         Business Process Management\n",
      "3   T004      Client Relationship Management\n",
      "4   T005          Full-Stack Web Development\n",
      "5   T006                  Financial Modeling\n",
      "6   T007             Machine Learning Basics\n",
      "7   T008               Data Science Bootcamp\n",
      "8   T009                  DevOps with Docker\n",
      "9   T010                 Node.js Masterclass\n",
      "10  T011               Consulting Essentials\n",
      "11  T012                 Advanced JavaScript\n",
      "12  T013         Advanced Data Visualization\n",
      "13  T014            Python for Data Analysis\n",
      "14  T015  Project Management for Consultants\n"
     ]
    }
   ],
   "source": [
    "training_dim = df_training[['T_id', 'T_name']]\n",
    "\n",
    "# Remove duplicates to ensure unique entries\n",
    "training_dim = training_dim.drop_duplicates()\n",
    "\n",
    "# Reset the index for better readability (optional)\n",
    "training_dim.reset_index(drop=True, inplace=True)\n",
    "\n",
    "# Sort the training dimension by T_id\n",
    "training_dim.sort_values(by='T_id', inplace=True)\n",
    "\n",
    "# Display the resulting training dimension table\n",
    "print(training_dim)"
   ]
  },
  {
   "cell_type": "code",
   "execution_count": 82,
   "metadata": {},
   "outputs": [
    {
     "data": {
      "text/plain": [
       "(15, 2)"
      ]
     },
     "execution_count": 82,
     "metadata": {},
     "output_type": "execute_result"
    }
   ],
   "source": [
    "training_dim.shape"
   ]
  },
  {
   "cell_type": "code",
   "execution_count": 256,
   "metadata": {},
   "outputs": [],
   "source": [
    "target_path=os.path.join(reporting_folder,'training_dim.csv')\n",
    "training_dim.to_csv(target_path,index=False)"
   ]
  },
  {
   "cell_type": "markdown",
   "metadata": {},
   "source": [
    "Job performance dimension table"
   ]
  },
  {
   "cell_type": "code",
   "execution_count": 257,
   "metadata": {},
   "outputs": [],
   "source": [
    "job_performance_dim = df_job_performance[['emp_id', 'no_of_projects', 'manager_rating', 'promotion']]"
   ]
  },
  {
   "cell_type": "code",
   "execution_count": 259,
   "metadata": {},
   "outputs": [
    {
     "name": "stderr",
     "output_type": "stream",
     "text": [
      "C:\\Users\\JenishaE\\AppData\\Local\\Temp\\ipykernel_8460\\2855875583.py:1: SettingWithCopyWarning: \n",
      "A value is trying to be set on a copy of a slice from a DataFrame\n",
      "\n",
      "See the caveats in the documentation: https://pandas.pydata.org/pandas-docs/stable/user_guide/indexing.html#returning-a-view-versus-a-copy\n",
      "  job_performance_dim.sort_values(by='emp_id', inplace=True)\n"
     ]
    },
    {
     "data": {
      "text/html": [
       "<div>\n",
       "<style scoped>\n",
       "    .dataframe tbody tr th:only-of-type {\n",
       "        vertical-align: middle;\n",
       "    }\n",
       "\n",
       "    .dataframe tbody tr th {\n",
       "        vertical-align: top;\n",
       "    }\n",
       "\n",
       "    .dataframe thead th {\n",
       "        text-align: right;\n",
       "    }\n",
       "</style>\n",
       "<table border=\"1\" class=\"dataframe\">\n",
       "  <thead>\n",
       "    <tr style=\"text-align: right;\">\n",
       "      <th></th>\n",
       "      <th>emp_id</th>\n",
       "      <th>no_of_projects</th>\n",
       "      <th>manager_rating</th>\n",
       "      <th>promotion</th>\n",
       "    </tr>\n",
       "  </thead>\n",
       "  <tbody>\n",
       "    <tr>\n",
       "      <th>0</th>\n",
       "      <td>E001</td>\n",
       "      <td>28</td>\n",
       "      <td>5</td>\n",
       "      <td>0</td>\n",
       "    </tr>\n",
       "    <tr>\n",
       "      <th>1</th>\n",
       "      <td>E002</td>\n",
       "      <td>20</td>\n",
       "      <td>5</td>\n",
       "      <td>0</td>\n",
       "    </tr>\n",
       "    <tr>\n",
       "      <th>2</th>\n",
       "      <td>E003</td>\n",
       "      <td>2</td>\n",
       "      <td>2</td>\n",
       "      <td>0</td>\n",
       "    </tr>\n",
       "    <tr>\n",
       "      <th>3</th>\n",
       "      <td>E004</td>\n",
       "      <td>8</td>\n",
       "      <td>1</td>\n",
       "      <td>1</td>\n",
       "    </tr>\n",
       "    <tr>\n",
       "      <th>4</th>\n",
       "      <td>E005</td>\n",
       "      <td>9</td>\n",
       "      <td>5</td>\n",
       "      <td>0</td>\n",
       "    </tr>\n",
       "  </tbody>\n",
       "</table>\n",
       "</div>"
      ],
      "text/plain": [
       "  emp_id  no_of_projects  manager_rating  promotion\n",
       "0   E001              28               5          0\n",
       "1   E002              20               5          0\n",
       "2   E003               2               2          0\n",
       "3   E004               8               1          1\n",
       "4   E005               9               5          0"
      ]
     },
     "execution_count": 259,
     "metadata": {},
     "output_type": "execute_result"
    }
   ],
   "source": [
    "job_performance_dim.sort_values(by='emp_id', inplace=True)\n",
    "\n",
    "# Display the resulting job performance dimension table\n",
    "job_performance_dim.head()"
   ]
  },
  {
   "cell_type": "code",
   "execution_count": 260,
   "metadata": {},
   "outputs": [],
   "source": [
    "target_path=os.path.join(reporting_folder,'job_performance_dim.csv')\n",
    "job_performance_dim.to_csv(target_path,index=False)"
   ]
  },
  {
   "cell_type": "markdown",
   "metadata": {},
   "source": [
    "Employee skill fact table"
   ]
  },
  {
   "cell_type": "code",
   "execution_count": 263,
   "metadata": {},
   "outputs": [],
   "source": [
    "emp_skill_fact=df_emp_skills[['emp_id','skill_id','proficiency_level','no_of_projects_done_in_that_skill','certifications']]"
   ]
  },
  {
   "cell_type": "code",
   "execution_count": 264,
   "metadata": {},
   "outputs": [
    {
     "data": {
      "text/html": [
       "<div>\n",
       "<style scoped>\n",
       "    .dataframe tbody tr th:only-of-type {\n",
       "        vertical-align: middle;\n",
       "    }\n",
       "\n",
       "    .dataframe tbody tr th {\n",
       "        vertical-align: top;\n",
       "    }\n",
       "\n",
       "    .dataframe thead th {\n",
       "        text-align: right;\n",
       "    }\n",
       "</style>\n",
       "<table border=\"1\" class=\"dataframe\">\n",
       "  <thead>\n",
       "    <tr style=\"text-align: right;\">\n",
       "      <th></th>\n",
       "      <th>emp_id</th>\n",
       "      <th>skill_id</th>\n",
       "      <th>proficiency_level</th>\n",
       "      <th>no_of_projects_done_in_that_skill</th>\n",
       "      <th>certifications</th>\n",
       "    </tr>\n",
       "  </thead>\n",
       "  <tbody>\n",
       "    <tr>\n",
       "      <th>0</th>\n",
       "      <td>E747</td>\n",
       "      <td>S013</td>\n",
       "      <td>3</td>\n",
       "      <td>4</td>\n",
       "      <td>No</td>\n",
       "    </tr>\n",
       "    <tr>\n",
       "      <th>1</th>\n",
       "      <td>E1625</td>\n",
       "      <td>S006</td>\n",
       "      <td>5</td>\n",
       "      <td>2</td>\n",
       "      <td>Yes</td>\n",
       "    </tr>\n",
       "    <tr>\n",
       "      <th>2</th>\n",
       "      <td>E4373</td>\n",
       "      <td>S002</td>\n",
       "      <td>7</td>\n",
       "      <td>6</td>\n",
       "      <td>Yes</td>\n",
       "    </tr>\n",
       "    <tr>\n",
       "      <th>3</th>\n",
       "      <td>E565</td>\n",
       "      <td>S012</td>\n",
       "      <td>7</td>\n",
       "      <td>9</td>\n",
       "      <td>No</td>\n",
       "    </tr>\n",
       "    <tr>\n",
       "      <th>4</th>\n",
       "      <td>E3652</td>\n",
       "      <td>S004</td>\n",
       "      <td>9</td>\n",
       "      <td>8</td>\n",
       "      <td>No</td>\n",
       "    </tr>\n",
       "  </tbody>\n",
       "</table>\n",
       "</div>"
      ],
      "text/plain": [
       "  emp_id skill_id  proficiency_level  no_of_projects_done_in_that_skill  \\\n",
       "0   E747     S013                  3                                  4   \n",
       "1  E1625     S006                  5                                  2   \n",
       "2  E4373     S002                  7                                  6   \n",
       "3   E565     S012                  7                                  9   \n",
       "4  E3652     S004                  9                                  8   \n",
       "\n",
       "  certifications  \n",
       "0             No  \n",
       "1            Yes  \n",
       "2            Yes  \n",
       "3             No  \n",
       "4             No  "
      ]
     },
     "execution_count": 264,
     "metadata": {},
     "output_type": "execute_result"
    }
   ],
   "source": [
    "emp_skill_fact.head()"
   ]
  },
  {
   "cell_type": "code",
   "execution_count": 265,
   "metadata": {},
   "outputs": [],
   "source": [
    "target_path=os.path.join(reporting_folder,'emp_skill_fact.csv')\n",
    "emp_skill_fact.to_csv(target_path,index=False)"
   ]
  },
  {
   "cell_type": "markdown",
   "metadata": {},
   "source": [
    "Employee Training Performance Fact Table"
   ]
  },
  {
   "cell_type": "code",
   "execution_count": 266,
   "metadata": {},
   "outputs": [],
   "source": [
    "emp_training_performance_fact=df_training[['emp_id','T_id','project_score','hackerrank_score','completed']]"
   ]
  },
  {
   "cell_type": "code",
   "execution_count": 267,
   "metadata": {},
   "outputs": [
    {
     "data": {
      "text/html": [
       "<div>\n",
       "<style scoped>\n",
       "    .dataframe tbody tr th:only-of-type {\n",
       "        vertical-align: middle;\n",
       "    }\n",
       "\n",
       "    .dataframe tbody tr th {\n",
       "        vertical-align: top;\n",
       "    }\n",
       "\n",
       "    .dataframe thead th {\n",
       "        text-align: right;\n",
       "    }\n",
       "</style>\n",
       "<table border=\"1\" class=\"dataframe\">\n",
       "  <thead>\n",
       "    <tr style=\"text-align: right;\">\n",
       "      <th></th>\n",
       "      <th>emp_id</th>\n",
       "      <th>T_id</th>\n",
       "      <th>project_score</th>\n",
       "      <th>hackerrank_score</th>\n",
       "      <th>completed</th>\n",
       "    </tr>\n",
       "  </thead>\n",
       "  <tbody>\n",
       "    <tr>\n",
       "      <th>0</th>\n",
       "      <td>E2082</td>\n",
       "      <td>T001</td>\n",
       "      <td>18</td>\n",
       "      <td>32</td>\n",
       "      <td>0</td>\n",
       "    </tr>\n",
       "    <tr>\n",
       "      <th>1</th>\n",
       "      <td>E467</td>\n",
       "      <td>T002</td>\n",
       "      <td>32</td>\n",
       "      <td>8</td>\n",
       "      <td>0</td>\n",
       "    </tr>\n",
       "    <tr>\n",
       "      <th>2</th>\n",
       "      <td>E261</td>\n",
       "      <td>T003</td>\n",
       "      <td>23</td>\n",
       "      <td>83</td>\n",
       "      <td>1</td>\n",
       "    </tr>\n",
       "    <tr>\n",
       "      <th>3</th>\n",
       "      <td>E699</td>\n",
       "      <td>T004</td>\n",
       "      <td>37</td>\n",
       "      <td>24</td>\n",
       "      <td>1</td>\n",
       "    </tr>\n",
       "    <tr>\n",
       "      <th>4</th>\n",
       "      <td>E3749</td>\n",
       "      <td>T005</td>\n",
       "      <td>18</td>\n",
       "      <td>72</td>\n",
       "      <td>1</td>\n",
       "    </tr>\n",
       "  </tbody>\n",
       "</table>\n",
       "</div>"
      ],
      "text/plain": [
       "  emp_id  T_id  project_score  hackerrank_score  completed\n",
       "0  E2082  T001             18                32          0\n",
       "1   E467  T002             32                 8          0\n",
       "2   E261  T003             23                83          1\n",
       "3   E699  T004             37                24          1\n",
       "4  E3749  T005             18                72          1"
      ]
     },
     "execution_count": 267,
     "metadata": {},
     "output_type": "execute_result"
    }
   ],
   "source": [
    "emp_training_performance_fact.head()"
   ]
  },
  {
   "cell_type": "code",
   "execution_count": 268,
   "metadata": {},
   "outputs": [
    {
     "data": {
      "text/plain": [
       "(5500, 5)"
      ]
     },
     "execution_count": 268,
     "metadata": {},
     "output_type": "execute_result"
    }
   ],
   "source": [
    "emp_training_performance_fact.shape"
   ]
  },
  {
   "cell_type": "code",
   "execution_count": 269,
   "metadata": {},
   "outputs": [],
   "source": [
    "target_path=os.path.join(reporting_folder,'emp_training_performance_fact.csv')\n",
    "emp_training_performance_fact.to_csv(target_path,index=False)"
   ]
  }
 ],
 "metadata": {
  "kernelspec": {
   "display_name": "Python 3",
   "language": "python",
   "name": "python3"
  },
  "language_info": {
   "codemirror_mode": {
    "name": "ipython",
    "version": 3
   },
   "file_extension": ".py",
   "mimetype": "text/x-python",
   "name": "python",
   "nbconvert_exporter": "python",
   "pygments_lexer": "ipython3",
   "version": "3.12.7"
  }
 },
 "nbformat": 4,
 "nbformat_minor": 2
}
