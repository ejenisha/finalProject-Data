{
 "cells": [
  {
   "cell_type": "code",
   "execution_count": 90,
   "metadata": {},
   "outputs": [],
   "source": [
    "import pandas as pd\n",
    "import os"
   ]
  },
  {
   "cell_type": "code",
   "execution_count": 135,
   "metadata": {},
   "outputs": [],
   "source": [
    "prep_folder = r'F:\\finalProjectData\\finalprojectData\\prep'\n",
    "reporting_folder=r'F:\\finalProjectData\\finalprojectData\\transform'\n",
    "emp_skills_data_prep_path = os.path.join(prep_folder, 'emp_skill_data_prep.csv')\n",
    "emp_data_prep_path=os.path.join(prep_folder,'emp_data_prep.csv')\n",
    "skills_data_prep_path=os.path.join(prep_folder,'skills_data_prep.csv')\n",
    "jobperformance_data_prep_path=os.path.join(prep_folder,'job_performance_prep.csv')\n",
    "training_data_prep_path=os.path.join(prep_folder,'training_data_prep.csv')\n"
   ]
  },
  {
   "cell_type": "code",
   "execution_count": 137,
   "metadata": {},
   "outputs": [],
   "source": [
    "df_emp=pd.read_csv(emp_data_prep_path)\n",
    "df_skills = pd.read_csv(skills_data_prep_path)\n",
    "df_emp_skills = pd.read_csv(emp_skills_data_prep_path)\n",
    "df_training = pd.read_csv(training_data_prep_path)\n",
    "df_job_performance=pd.read_csv(jobperformance_data_prep_path)"
   ]
  },
  {
   "cell_type": "markdown",
   "metadata": {},
   "source": [
    "skill count per employee"
   ]
  },
  {
   "cell_type": "code",
   "execution_count": 138,
   "metadata": {},
   "outputs": [],
   "source": [
    "no_of_skills_per_employee = df_emp_skills.groupby(['emp_id','emp_name']).size().reset_index(name='no_of_skills')"
   ]
  },
  {
   "cell_type": "code",
   "execution_count": 142,
   "metadata": {},
   "outputs": [
    {
     "name": "stdout",
     "output_type": "stream",
     "text": [
      "     emp_id          emp_name  no_of_skills\n",
      "0      E001      Sharon Burns             2\n",
      "1      E002    Hannah Sanchez             1\n",
      "2      E003      Larry Waters             1\n",
      "3      E005         John Cook             2\n",
      "4      E006        Keith Webb             2\n",
      "...     ...               ...           ...\n",
      "3379   E994      Colleen Shea             2\n",
      "3380   E995  Cassandra Morris             4\n",
      "3381   E996       Mark Ramsey             1\n",
      "3382   E998   Stacie Mcintyre             2\n",
      "3383   E999   Michael Sanchez             1\n",
      "\n",
      "[3384 rows x 3 columns]\n"
     ]
    }
   ],
   "source": [
    "print(no_of_skills_per_employee)"
   ]
  },
  {
   "cell_type": "code",
   "execution_count": 143,
   "metadata": {},
   "outputs": [],
   "source": [
    "target_path=os.path.join(reporting_folder,'count_of_skills_per_emp.csv')\n",
    "no_of_skills_per_employee.to_csv(target_path,index=False)"
   ]
  },
  {
   "cell_type": "markdown",
   "metadata": {},
   "source": [
    "Top project score and hackerrank score in each training and the employee who secured it"
   ]
  },
  {
   "cell_type": "code",
   "execution_count": 144,
   "metadata": {},
   "outputs": [],
   "source": [
    "top_project_scores = df_training.loc[df_training.groupby('T_name')['project_score'].idxmax()][['T_name', 'project_score', 'emp_name']]\n"
   ]
  },
  {
   "cell_type": "code",
   "execution_count": 145,
   "metadata": {},
   "outputs": [],
   "source": [
    "top_hackerrank_scores = df_training.loc[df_training.groupby('T_name')['hackerrank_score'].idxmax()][['T_name', 'hackerrank_score', 'emp_name']]\n"
   ]
  },
  {
   "cell_type": "code",
   "execution_count": 146,
   "metadata": {},
   "outputs": [],
   "source": [
    "top_project_scores.rename(columns={'project_score': 'top_project_score', 'emp_name': 'top_project_emp'}, inplace=True)\n",
    "top_hackerrank_scores.rename(columns={'hackerrank_score': 'top_hackerrank_score', 'emp_name': 'top_hackerrank_emp'}, inplace=True)"
   ]
  },
  {
   "cell_type": "code",
   "execution_count": 147,
   "metadata": {},
   "outputs": [
    {
     "data": {
      "text/html": [
       "<div>\n",
       "<style scoped>\n",
       "    .dataframe tbody tr th:only-of-type {\n",
       "        vertical-align: middle;\n",
       "    }\n",
       "\n",
       "    .dataframe tbody tr th {\n",
       "        vertical-align: top;\n",
       "    }\n",
       "\n",
       "    .dataframe thead th {\n",
       "        text-align: right;\n",
       "    }\n",
       "</style>\n",
       "<table border=\"1\" class=\"dataframe\">\n",
       "  <thead>\n",
       "    <tr style=\"text-align: right;\">\n",
       "      <th></th>\n",
       "      <th>T_name</th>\n",
       "      <th>top_project_score</th>\n",
       "      <th>top_project_emp</th>\n",
       "      <th>top_hackerrank_score</th>\n",
       "      <th>top_hackerrank_emp</th>\n",
       "    </tr>\n",
       "  </thead>\n",
       "  <tbody>\n",
       "    <tr>\n",
       "      <th>0</th>\n",
       "      <td>Advanced Data Visualization</td>\n",
       "      <td>100</td>\n",
       "      <td>Scott Payne</td>\n",
       "      <td>100</td>\n",
       "      <td>Nicole Scott</td>\n",
       "    </tr>\n",
       "    <tr>\n",
       "      <th>1</th>\n",
       "      <td>Advanced JavaScript</td>\n",
       "      <td>100</td>\n",
       "      <td>Michael Beltran</td>\n",
       "      <td>100</td>\n",
       "      <td>Christopher Garrett</td>\n",
       "    </tr>\n",
       "    <tr>\n",
       "      <th>2</th>\n",
       "      <td>Business Process Management</td>\n",
       "      <td>99</td>\n",
       "      <td>Matthew Kramer</td>\n",
       "      <td>100</td>\n",
       "      <td>Charles Henderson</td>\n",
       "    </tr>\n",
       "    <tr>\n",
       "      <th>3</th>\n",
       "      <td>Client Relationship Management</td>\n",
       "      <td>99</td>\n",
       "      <td>Claudia Miranda</td>\n",
       "      <td>100</td>\n",
       "      <td>Edward Rogers</td>\n",
       "    </tr>\n",
       "    <tr>\n",
       "      <th>4</th>\n",
       "      <td>Consulting Essentials</td>\n",
       "      <td>100</td>\n",
       "      <td>Christopher Lee</td>\n",
       "      <td>100</td>\n",
       "      <td>Rebecca Adams</td>\n",
       "    </tr>\n",
       "  </tbody>\n",
       "</table>\n",
       "</div>"
      ],
      "text/plain": [
       "                           T_name  top_project_score  top_project_emp  \\\n",
       "0     Advanced Data Visualization                100      Scott Payne   \n",
       "1             Advanced JavaScript                100  Michael Beltran   \n",
       "2     Business Process Management                 99   Matthew Kramer   \n",
       "3  Client Relationship Management                 99  Claudia Miranda   \n",
       "4           Consulting Essentials                100  Christopher Lee   \n",
       "\n",
       "   top_hackerrank_score   top_hackerrank_emp  \n",
       "0                   100         Nicole Scott  \n",
       "1                   100  Christopher Garrett  \n",
       "2                   100    Charles Henderson  \n",
       "3                   100        Edward Rogers  \n",
       "4                   100        Rebecca Adams  "
      ]
     },
     "execution_count": 147,
     "metadata": {},
     "output_type": "execute_result"
    }
   ],
   "source": [
    "df_top_scores = pd.merge(top_project_scores, top_hackerrank_scores, on='T_name')\n",
    "df_top_scores.head()\n"
   ]
  },
  {
   "cell_type": "code",
   "execution_count": 149,
   "metadata": {},
   "outputs": [],
   "source": [
    "target_path=os.path.join(reporting_folder,'top_scores_byTraining.csv')\n",
    "df_top_scores.to_csv(target_path,index=False)"
   ]
  },
  {
   "cell_type": "markdown",
   "metadata": {},
   "source": [
    "Count of employees gained skill in each category"
   ]
  },
  {
   "cell_type": "code",
   "execution_count": 103,
   "metadata": {},
   "outputs": [],
   "source": [
    "df_merged_empskill_skill = pd.merge(df_emp_skills, df_skills[['skill_id', 'skill_name', 'skill_category']], on='skill_id')"
   ]
  },
  {
   "cell_type": "code",
   "execution_count": 104,
   "metadata": {},
   "outputs": [],
   "source": [
    "employee_count_per_skill_category = df_merged_empskill_skill.groupby('skill_category')['emp_id'].nunique().reset_index()"
   ]
  },
  {
   "cell_type": "code",
   "execution_count": 105,
   "metadata": {},
   "outputs": [
    {
     "name": "stdout",
     "output_type": "stream",
     "text": [
      "  Skill Category  Employee Count\n",
      "0     consulting            1609\n",
      "1           data            1539\n",
      "2     full_stack            1619\n"
     ]
    }
   ],
   "source": [
    "employee_count_per_skill_category.columns = ['Skill Category', 'Employee Count']\n",
    "\n",
    "# Display the resulting DataFrame\n",
    "print(employee_count_per_skill_category)"
   ]
  },
  {
   "cell_type": "code",
   "execution_count": 150,
   "metadata": {},
   "outputs": [],
   "source": [
    "target_path=os.path.join(reporting_folder,'employee_count_per_skill_category.csv')\n",
    "employee_count_per_skill_category.to_csv(target_path,index=False)"
   ]
  },
  {
   "cell_type": "markdown",
   "metadata": {},
   "source": [
    "Employees whose manager rating is greater than or equal to 4"
   ]
  },
  {
   "cell_type": "code",
   "execution_count": 106,
   "metadata": {},
   "outputs": [
    {
     "name": "stdout",
     "output_type": "stream",
     "text": [
      "     emp_id          emp_name  manager_rating\n",
      "1     E3215     Michael Moore               4\n",
      "2     E3576  Courtney Padilla               4\n",
      "3     E3887  Michael Harrison               5\n",
      "7      E943   Christina Brown               4\n",
      "14    E3724     Charles Green               5\n",
      "...     ...               ...             ...\n",
      "3128  E1121      Dawn Fischer               5\n",
      "3130  E4474    Jasmine Wilson               5\n",
      "3133  E1329   Daniel Williams               5\n",
      "3135  E4783    Kenneth Strong               4\n",
      "3141  E4203      Jessica Carr               4\n",
      "\n",
      "[1126 rows x 3 columns]\n"
     ]
    }
   ],
   "source": [
    "df_high_rated_employees = df_job_performance[df_job_performance['manager_rating'] >= 4]\n",
    "\n",
    "# Select relevant columns to display\n",
    "df_high_rated_employees = df_high_rated_employees[['emp_id', 'emp_name', 'manager_rating']]\n",
    "\n",
    "# Display the filtered DataFrame\n",
    "print(df_high_rated_employees)"
   ]
  },
  {
   "cell_type": "code",
   "execution_count": 151,
   "metadata": {},
   "outputs": [],
   "source": [
    "target_path=os.path.join(reporting_folder,'high_rated_employees.csv')\n",
    "df_high_rated_employees.to_csv(target_path,index=False)"
   ]
  },
  {
   "cell_type": "markdown",
   "metadata": {},
   "source": [
    "No.of.employees having certifications in each skill"
   ]
  },
  {
   "cell_type": "code",
   "execution_count": 114,
   "metadata": {},
   "outputs": [],
   "source": [
    "df_certified_employees = df_emp_skills[df_emp_skills['certifications'] == 'Yes']"
   ]
  },
  {
   "cell_type": "code",
   "execution_count": 115,
   "metadata": {},
   "outputs": [],
   "source": [
    "certification_counts = df_certified_employees.groupby('skill_name')['emp_id'].count().reset_index()\n"
   ]
  },
  {
   "cell_type": "code",
   "execution_count": 116,
   "metadata": {},
   "outputs": [],
   "source": [
    "certification_counts.columns = ['skill_name', 'no_of_employees_with_certifications']\n"
   ]
  },
  {
   "cell_type": "code",
   "execution_count": 117,
   "metadata": {},
   "outputs": [
    {
     "data": {
      "text/html": [
       "<div>\n",
       "<style scoped>\n",
       "    .dataframe tbody tr th:only-of-type {\n",
       "        vertical-align: middle;\n",
       "    }\n",
       "\n",
       "    .dataframe tbody tr th {\n",
       "        vertical-align: top;\n",
       "    }\n",
       "\n",
       "    .dataframe thead th {\n",
       "        text-align: right;\n",
       "    }\n",
       "</style>\n",
       "<table border=\"1\" class=\"dataframe\">\n",
       "  <thead>\n",
       "    <tr style=\"text-align: right;\">\n",
       "      <th></th>\n",
       "      <th>skill_name</th>\n",
       "      <th>no_of_employees_with_certifications</th>\n",
       "    </tr>\n",
       "  </thead>\n",
       "  <tbody>\n",
       "    <tr>\n",
       "      <th>0</th>\n",
       "      <td>Big Data</td>\n",
       "      <td>152</td>\n",
       "    </tr>\n",
       "    <tr>\n",
       "      <th>1</th>\n",
       "      <td>Client Management</td>\n",
       "      <td>178</td>\n",
       "    </tr>\n",
       "    <tr>\n",
       "      <th>2</th>\n",
       "      <td>Consulting Basics</td>\n",
       "      <td>202</td>\n",
       "    </tr>\n",
       "    <tr>\n",
       "      <th>3</th>\n",
       "      <td>Data Visualization</td>\n",
       "      <td>189</td>\n",
       "    </tr>\n",
       "    <tr>\n",
       "      <th>4</th>\n",
       "      <td>Docker</td>\n",
       "      <td>188</td>\n",
       "    </tr>\n",
       "  </tbody>\n",
       "</table>\n",
       "</div>"
      ],
      "text/plain": [
       "           skill_name  no_of_employees_with_certifications\n",
       "0            Big Data                                  152\n",
       "1   Client Management                                  178\n",
       "2   Consulting Basics                                  202\n",
       "3  Data Visualization                                  189\n",
       "4              Docker                                  188"
      ]
     },
     "execution_count": 117,
     "metadata": {},
     "output_type": "execute_result"
    }
   ],
   "source": [
    "certification_counts.head()"
   ]
  },
  {
   "cell_type": "code",
   "execution_count": 152,
   "metadata": {},
   "outputs": [],
   "source": [
    "target_path=os.path.join(reporting_folder,'certification_counts.csv')\n",
    "certification_counts.to_csv(target_path,index=False)"
   ]
  },
  {
   "cell_type": "markdown",
   "metadata": {},
   "source": [
    "Average project score in each training"
   ]
  },
  {
   "cell_type": "code",
   "execution_count": 118,
   "metadata": {},
   "outputs": [],
   "source": [
    "avg_project_score = df_training.groupby('T_name')['project_score'].mean().reset_index()"
   ]
  },
  {
   "cell_type": "code",
   "execution_count": 119,
   "metadata": {},
   "outputs": [],
   "source": [
    "avg_project_score.columns = ['training_name', 'avg_project_score']"
   ]
  },
  {
   "cell_type": "code",
   "execution_count": 120,
   "metadata": {},
   "outputs": [
    {
     "data": {
      "text/html": [
       "<div>\n",
       "<style scoped>\n",
       "    .dataframe tbody tr th:only-of-type {\n",
       "        vertical-align: middle;\n",
       "    }\n",
       "\n",
       "    .dataframe tbody tr th {\n",
       "        vertical-align: top;\n",
       "    }\n",
       "\n",
       "    .dataframe thead th {\n",
       "        text-align: right;\n",
       "    }\n",
       "</style>\n",
       "<table border=\"1\" class=\"dataframe\">\n",
       "  <thead>\n",
       "    <tr style=\"text-align: right;\">\n",
       "      <th></th>\n",
       "      <th>training_name</th>\n",
       "      <th>avg_project_score</th>\n",
       "    </tr>\n",
       "  </thead>\n",
       "  <tbody>\n",
       "    <tr>\n",
       "      <th>0</th>\n",
       "      <td>Advanced Data Visualization</td>\n",
       "      <td>37.305155</td>\n",
       "    </tr>\n",
       "    <tr>\n",
       "      <th>1</th>\n",
       "      <td>Advanced JavaScript</td>\n",
       "      <td>37.773224</td>\n",
       "    </tr>\n",
       "    <tr>\n",
       "      <th>2</th>\n",
       "      <td>Business Process Management</td>\n",
       "      <td>38.064378</td>\n",
       "    </tr>\n",
       "    <tr>\n",
       "      <th>3</th>\n",
       "      <td>Client Relationship Management</td>\n",
       "      <td>34.845850</td>\n",
       "    </tr>\n",
       "    <tr>\n",
       "      <th>4</th>\n",
       "      <td>Consulting Essentials</td>\n",
       "      <td>36.127413</td>\n",
       "    </tr>\n",
       "  </tbody>\n",
       "</table>\n",
       "</div>"
      ],
      "text/plain": [
       "                    training_name  avg_project_score\n",
       "0     Advanced Data Visualization          37.305155\n",
       "1             Advanced JavaScript          37.773224\n",
       "2     Business Process Management          38.064378\n",
       "3  Client Relationship Management          34.845850\n",
       "4           Consulting Essentials          36.127413"
      ]
     },
     "execution_count": 120,
     "metadata": {},
     "output_type": "execute_result"
    }
   ],
   "source": [
    "avg_project_score.head()"
   ]
  },
  {
   "cell_type": "code",
   "execution_count": 153,
   "metadata": {},
   "outputs": [],
   "source": [
    "target_path=os.path.join(reporting_folder,'avg_project_score_byTraining.csv')\n",
    "avg_project_score.to_csv(target_path,index=False)"
   ]
  },
  {
   "cell_type": "markdown",
   "metadata": {},
   "source": [
    "employees with more than 15 years of experience in each department"
   ]
  },
  {
   "cell_type": "code",
   "execution_count": 127,
   "metadata": {},
   "outputs": [],
   "source": [
    "filtered_employees = df_emp[df_emp['experience'] > 15][['emp_name', 'department','experience']]"
   ]
  },
  {
   "cell_type": "code",
   "execution_count": 128,
   "metadata": {},
   "outputs": [],
   "source": [
    "filtered_employees.reset_index(drop=True, inplace=True)"
   ]
  },
  {
   "cell_type": "code",
   "execution_count": 129,
   "metadata": {},
   "outputs": [
    {
     "data": {
      "text/html": [
       "<div>\n",
       "<style scoped>\n",
       "    .dataframe tbody tr th:only-of-type {\n",
       "        vertical-align: middle;\n",
       "    }\n",
       "\n",
       "    .dataframe tbody tr th {\n",
       "        vertical-align: top;\n",
       "    }\n",
       "\n",
       "    .dataframe thead th {\n",
       "        text-align: right;\n",
       "    }\n",
       "</style>\n",
       "<table border=\"1\" class=\"dataframe\">\n",
       "  <thead>\n",
       "    <tr style=\"text-align: right;\">\n",
       "      <th></th>\n",
       "      <th>emp_name</th>\n",
       "      <th>department</th>\n",
       "      <th>experience</th>\n",
       "    </tr>\n",
       "  </thead>\n",
       "  <tbody>\n",
       "    <tr>\n",
       "      <th>0</th>\n",
       "      <td>Nicholas Miller</td>\n",
       "      <td>Sales</td>\n",
       "      <td>20</td>\n",
       "    </tr>\n",
       "    <tr>\n",
       "      <th>1</th>\n",
       "      <td>Angela West</td>\n",
       "      <td>Finance</td>\n",
       "      <td>20</td>\n",
       "    </tr>\n",
       "    <tr>\n",
       "      <th>2</th>\n",
       "      <td>Benjamin Johnston</td>\n",
       "      <td>Marketing</td>\n",
       "      <td>20</td>\n",
       "    </tr>\n",
       "    <tr>\n",
       "      <th>3</th>\n",
       "      <td>Felicia Case</td>\n",
       "      <td>Sales</td>\n",
       "      <td>20</td>\n",
       "    </tr>\n",
       "    <tr>\n",
       "      <th>4</th>\n",
       "      <td>Dylan Beard</td>\n",
       "      <td>Engineering</td>\n",
       "      <td>20</td>\n",
       "    </tr>\n",
       "  </tbody>\n",
       "</table>\n",
       "</div>"
      ],
      "text/plain": [
       "            emp_name   department  experience\n",
       "0    Nicholas Miller        Sales          20\n",
       "1        Angela West      Finance          20\n",
       "2  Benjamin Johnston    Marketing          20\n",
       "3       Felicia Case        Sales          20\n",
       "4        Dylan Beard  Engineering          20"
      ]
     },
     "execution_count": 129,
     "metadata": {},
     "output_type": "execute_result"
    }
   ],
   "source": [
    "filtered_employees.head()"
   ]
  },
  {
   "cell_type": "code",
   "execution_count": 154,
   "metadata": {},
   "outputs": [],
   "source": [
    "target_path=os.path.join(reporting_folder,'high_experience_emp.csv')\n",
    "filtered_employees.to_csv(target_path,index=False)"
   ]
  },
  {
   "cell_type": "markdown",
   "metadata": {},
   "source": [
    "count of employees completed or not completed each training"
   ]
  },
  {
   "cell_type": "code",
   "execution_count": 130,
   "metadata": {},
   "outputs": [],
   "source": [
    "completed_counts = df_training.groupby('T_name')['completed'].value_counts().unstack(fill_value=0)\n"
   ]
  },
  {
   "cell_type": "code",
   "execution_count": 131,
   "metadata": {},
   "outputs": [],
   "source": [
    "completed_counts.columns = ['count_of_employees_completed', 'count_of_employees_not_completed']"
   ]
  },
  {
   "cell_type": "code",
   "execution_count": 132,
   "metadata": {},
   "outputs": [],
   "source": [
    "completed_counts.reset_index(inplace=True)"
   ]
  },
  {
   "cell_type": "code",
   "execution_count": 133,
   "metadata": {},
   "outputs": [
    {
     "data": {
      "text/html": [
       "<div>\n",
       "<style scoped>\n",
       "    .dataframe tbody tr th:only-of-type {\n",
       "        vertical-align: middle;\n",
       "    }\n",
       "\n",
       "    .dataframe tbody tr th {\n",
       "        vertical-align: top;\n",
       "    }\n",
       "\n",
       "    .dataframe thead th {\n",
       "        text-align: right;\n",
       "    }\n",
       "</style>\n",
       "<table border=\"1\" class=\"dataframe\">\n",
       "  <thead>\n",
       "    <tr style=\"text-align: right;\">\n",
       "      <th></th>\n",
       "      <th>T_name</th>\n",
       "      <th>count_of_employees_completed</th>\n",
       "      <th>count_of_employees_not_completed</th>\n",
       "    </tr>\n",
       "  </thead>\n",
       "  <tbody>\n",
       "    <tr>\n",
       "      <th>0</th>\n",
       "      <td>Advanced Data Visualization</td>\n",
       "      <td>242</td>\n",
       "      <td>243</td>\n",
       "    </tr>\n",
       "    <tr>\n",
       "      <th>1</th>\n",
       "      <td>Advanced JavaScript</td>\n",
       "      <td>171</td>\n",
       "      <td>195</td>\n",
       "    </tr>\n",
       "    <tr>\n",
       "      <th>2</th>\n",
       "      <td>Business Process Management</td>\n",
       "      <td>120</td>\n",
       "      <td>113</td>\n",
       "    </tr>\n",
       "    <tr>\n",
       "      <th>3</th>\n",
       "      <td>Client Relationship Management</td>\n",
       "      <td>125</td>\n",
       "      <td>128</td>\n",
       "    </tr>\n",
       "    <tr>\n",
       "      <th>4</th>\n",
       "      <td>Consulting Essentials</td>\n",
       "      <td>133</td>\n",
       "      <td>126</td>\n",
       "    </tr>\n",
       "  </tbody>\n",
       "</table>\n",
       "</div>"
      ],
      "text/plain": [
       "                           T_name  count_of_employees_completed  \\\n",
       "0     Advanced Data Visualization                           242   \n",
       "1             Advanced JavaScript                           171   \n",
       "2     Business Process Management                           120   \n",
       "3  Client Relationship Management                           125   \n",
       "4           Consulting Essentials                           133   \n",
       "\n",
       "   count_of_employees_not_completed  \n",
       "0                               243  \n",
       "1                               195  \n",
       "2                               113  \n",
       "3                               128  \n",
       "4                               126  "
      ]
     },
     "execution_count": 133,
     "metadata": {},
     "output_type": "execute_result"
    }
   ],
   "source": [
    "completed_counts.head()"
   ]
  },
  {
   "cell_type": "code",
   "execution_count": 155,
   "metadata": {},
   "outputs": [],
   "source": [
    "target_path=os.path.join(reporting_folder,'completed_count_byTraining.csv')\n",
    "completed_counts.to_csv(target_path,index=False)"
   ]
  },
  {
   "cell_type": "markdown",
   "metadata": {},
   "source": [
    "count of employees having proficiency greater than 7\n"
   ]
  },
  {
   "cell_type": "code",
   "execution_count": 157,
   "metadata": {},
   "outputs": [],
   "source": [
    "proficient_employees = df_emp_skills[df_emp_skills['proficiency_level'] > 7]"
   ]
  },
  {
   "cell_type": "code",
   "execution_count": 158,
   "metadata": {},
   "outputs": [],
   "source": [
    "skill_counts = proficient_employees.groupby('skill_name')['emp_id'].count().reset_index()"
   ]
  },
  {
   "cell_type": "code",
   "execution_count": 159,
   "metadata": {},
   "outputs": [],
   "source": [
    "skill_counts.columns = ['skill_name', 'count_of_employees_with_proficiency_above_7']\n"
   ]
  },
  {
   "cell_type": "code",
   "execution_count": 160,
   "metadata": {},
   "outputs": [
    {
     "data": {
      "text/html": [
       "<div>\n",
       "<style scoped>\n",
       "    .dataframe tbody tr th:only-of-type {\n",
       "        vertical-align: middle;\n",
       "    }\n",
       "\n",
       "    .dataframe tbody tr th {\n",
       "        vertical-align: top;\n",
       "    }\n",
       "\n",
       "    .dataframe thead th {\n",
       "        text-align: right;\n",
       "    }\n",
       "</style>\n",
       "<table border=\"1\" class=\"dataframe\">\n",
       "  <thead>\n",
       "    <tr style=\"text-align: right;\">\n",
       "      <th></th>\n",
       "      <th>skill_name</th>\n",
       "      <th>count_of_employees_with_proficiency_above_7</th>\n",
       "    </tr>\n",
       "  </thead>\n",
       "  <tbody>\n",
       "    <tr>\n",
       "      <th>0</th>\n",
       "      <td>Big Data</td>\n",
       "      <td>120</td>\n",
       "    </tr>\n",
       "    <tr>\n",
       "      <th>1</th>\n",
       "      <td>Client Management</td>\n",
       "      <td>121</td>\n",
       "    </tr>\n",
       "    <tr>\n",
       "      <th>2</th>\n",
       "      <td>Consulting Basics</td>\n",
       "      <td>125</td>\n",
       "    </tr>\n",
       "    <tr>\n",
       "      <th>3</th>\n",
       "      <td>Data Visualization</td>\n",
       "      <td>113</td>\n",
       "    </tr>\n",
       "    <tr>\n",
       "      <th>4</th>\n",
       "      <td>Docker</td>\n",
       "      <td>103</td>\n",
       "    </tr>\n",
       "  </tbody>\n",
       "</table>\n",
       "</div>"
      ],
      "text/plain": [
       "           skill_name  count_of_employees_with_proficiency_above_7\n",
       "0            Big Data                                          120\n",
       "1   Client Management                                          121\n",
       "2   Consulting Basics                                          125\n",
       "3  Data Visualization                                          113\n",
       "4              Docker                                          103"
      ]
     },
     "execution_count": 160,
     "metadata": {},
     "output_type": "execute_result"
    }
   ],
   "source": [
    "skill_counts.head()"
   ]
  },
  {
   "cell_type": "code",
   "execution_count": 161,
   "metadata": {},
   "outputs": [],
   "source": [
    "target_path=os.path.join(reporting_folder,'hig_proficiency.csv')\n",
    "skill_counts.to_csv(target_path,index=False)"
   ]
  }
 ],
 "metadata": {
  "kernelspec": {
   "display_name": "Python 3",
   "language": "python",
   "name": "python3"
  },
  "language_info": {
   "codemirror_mode": {
    "name": "ipython",
    "version": 3
   },
   "file_extension": ".py",
   "mimetype": "text/x-python",
   "name": "python",
   "nbconvert_exporter": "python",
   "pygments_lexer": "ipython3",
   "version": "3.12.3"
  }
 },
 "nbformat": 4,
 "nbformat_minor": 2
}
